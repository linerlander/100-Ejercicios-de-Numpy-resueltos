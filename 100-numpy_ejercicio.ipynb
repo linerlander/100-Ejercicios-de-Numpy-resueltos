{
 "cells": [
  {
   "cell_type": "markdown",
   "metadata": {},
   "source": [
    "100 ejercicio en Numpy\n",
    "\n",
    "Esta es una colección de ejercicios que se han recopilado en la lista de correo de numpy, en el desbordamiento de pila y en la documentación de numpy. El objetivo de esta colección es ofrecer una referencia rápida para usuarios nuevos y antiguos, pero también proporcionar una serie de ejercicios para quienes enseñan"
   ]
  },
  {
   "cell_type": "markdown",
   "metadata": {},
   "source": [
    "1. Importe el paquete numpy con el nombre np (★☆☆)"
   ]
  },
  {
   "cell_type": "code",
   "execution_count": 411,
   "metadata": {},
   "outputs": [],
   "source": [
    "import numpy as np"
   ]
  },
  {
   "cell_type": "markdown",
   "metadata": {},
   "source": [
    "2. Imprima la versión numpy y la configuración (★☆☆)"
   ]
  },
  {
   "cell_type": "code",
   "execution_count": 412,
   "metadata": {},
   "outputs": [
    {
     "name": "stdout",
     "output_type": "stream",
     "text": [
      "1.26.4\n",
      "{\n",
      "  \"Compilers\": {\n",
      "    \"c\": {\n",
      "      \"name\": \"msvc\",\n",
      "      \"linker\": \"link\",\n",
      "      \"version\": \"19.29.30153\",\n",
      "      \"commands\": \"cl\"\n",
      "    },\n",
      "    \"cython\": {\n",
      "      \"name\": \"cython\",\n",
      "      \"linker\": \"cython\",\n",
      "      \"version\": \"3.0.8\",\n",
      "      \"commands\": \"cython\"\n",
      "    },\n",
      "    \"c++\": {\n",
      "      \"name\": \"msvc\",\n",
      "      \"linker\": \"link\",\n",
      "      \"version\": \"19.29.30153\",\n",
      "      \"commands\": \"cl\"\n",
      "    }\n",
      "  },\n",
      "  \"Machine Information\": {\n",
      "    \"host\": {\n",
      "      \"cpu\": \"x86_64\",\n",
      "      \"family\": \"x86_64\",\n",
      "      \"endian\": \"little\",\n",
      "      \"system\": \"windows\"\n",
      "    },\n",
      "    \"build\": {\n",
      "      \"cpu\": \"x86_64\",\n",
      "      \"family\": \"x86_64\",\n",
      "      \"endian\": \"little\",\n",
      "      \"system\": \"windows\"\n",
      "    }\n",
      "  },\n",
      "  \"Build Dependencies\": {\n",
      "    \"blas\": {\n",
      "      \"name\": \"openblas64\",\n",
      "      \"found\": true,\n",
      "      \"version\": \"0.3.23.dev\",\n",
      "      \"detection method\": \"pkgconfig\",\n",
      "      \"include directory\": \"/c/opt/64/include\",\n",
      "      \"lib directory\": \"/c/opt/64/lib\",\n",
      "      \"openblas configuration\": \"USE_64BITINT=1 DYNAMIC_ARCH=1 DYNAMIC_OLDER= NO_CBLAS= NO_LAPACK= NO_LAPACKE= NO_AFFINITY=1 USE_OPENMP= SKYLAKEX MAX_THREADS=2\",\n",
      "      \"pc file directory\": \"C:/opt/64/lib/pkgconfig\"\n",
      "    },\n",
      "    \"lapack\": {\n",
      "      \"name\": \"dep2270588361616\",\n",
      "      \"found\": true,\n",
      "      \"version\": \"1.26.4\",\n",
      "      \"detection method\": \"internal\",\n",
      "      \"include directory\": \"unknown\",\n",
      "      \"lib directory\": \"unknown\",\n",
      "      \"openblas configuration\": \"unknown\",\n",
      "      \"pc file directory\": \"unknown\"\n",
      "    }\n",
      "  },\n",
      "  \"Python Information\": {\n",
      "    \"path\": \"C:\\\\Users\\\\runneradmin\\\\AppData\\\\Local\\\\Temp\\\\cibw-run-j442zwj6\\\\cp311-win_amd64\\\\build\\\\venv\\\\Scripts\\\\python.exe\",\n",
      "    \"version\": \"3.11\"\n",
      "  },\n",
      "  \"SIMD Extensions\": {\n",
      "    \"baseline\": [\n",
      "      \"SSE\",\n",
      "      \"SSE2\",\n",
      "      \"SSE3\"\n",
      "    ],\n",
      "    \"found\": [\n",
      "      \"SSSE3\",\n",
      "      \"SSE41\",\n",
      "      \"POPCNT\",\n",
      "      \"SSE42\",\n",
      "      \"AVX\",\n",
      "      \"F16C\",\n",
      "      \"FMA3\",\n",
      "      \"AVX2\"\n",
      "    ],\n",
      "    \"not found\": [\n",
      "      \"AVX512F\",\n",
      "      \"AVX512CD\",\n",
      "      \"AVX512_SKX\",\n",
      "      \"AVX512_CLX\",\n",
      "      \"AVX512_CNL\",\n",
      "      \"AVX512_ICL\"\n",
      "    ]\n",
      "  }\n",
      "}\n"
     ]
    },
    {
     "name": "stderr",
     "output_type": "stream",
     "text": [
      "C:\\Users\\EQUIPO\\AppData\\Local\\Packages\\PythonSoftwareFoundation.Python.3.11_qbz5n2kfra8p0\\LocalCache\\local-packages\\Python311\\site-packages\\numpy\\__config__.py:155: UserWarning: Install `pyyaml` for better output\n",
      "  warnings.warn(\"Install `pyyaml` for better output\", stacklevel=1)\n"
     ]
    }
   ],
   "source": [
    "print(np.__version__)\n",
    "np.show_config()"
   ]
  },
  {
   "cell_type": "markdown",
   "metadata": {},
   "source": [
    "3. Crea un vector nulo de tamaño 10 (★☆☆)"
   ]
  },
  {
   "cell_type": "code",
   "execution_count": 413,
   "metadata": {},
   "outputs": [
    {
     "name": "stdout",
     "output_type": "stream",
     "text": [
      "[0 0 0 0 0 0 0 0 0 0]\n"
     ]
    }
   ],
   "source": [
    "vector = np.zeros(10, dtype=np.int32)\n",
    "print(vector)"
   ]
  },
  {
   "cell_type": "markdown",
   "metadata": {},
   "source": [
    "4. Cómo encontrar el tamaño de la memoria de cualquier matriz (★☆☆)"
   ]
  },
  {
   "cell_type": "code",
   "execution_count": 414,
   "metadata": {},
   "outputs": [
    {
     "name": "stdout",
     "output_type": "stream",
     "text": [
      "40 bytes\n"
     ]
    }
   ],
   "source": [
    "matriz = np.array([[1,2,4,5,6],[9,5,7,8,6]])\n",
    "print(f'{matriz.size * matriz.itemsize} bytes') # itemsize --> Cantidad de bytes que almacena cada elemento de la matriz y size --> cantidad de elementos en la matriz"
   ]
  },
  {
   "cell_type": "markdown",
   "metadata": {},
   "source": [
    "5. Crea un vector nulo(valor 0) de tamaño 10 pero el quinto valor es 1 (★☆☆)"
   ]
  },
  {
   "cell_type": "code",
   "execution_count": 415,
   "metadata": {},
   "outputs": [
    {
     "name": "stdout",
     "output_type": "stream",
     "text": [
      "[0 0 0 0 1 0 0 0 0 0]\n"
     ]
    }
   ],
   "source": [
    "vector = np.zeros(10, dtype=np.int64)\n",
    "vector[4] = 1\n",
    "print(vector)"
   ]
  },
  {
   "cell_type": "markdown",
   "metadata": {},
   "source": [
    "6. Crea un vector con valores que van del 10 al 49 (★☆☆)"
   ]
  },
  {
   "cell_type": "code",
   "execution_count": 416,
   "metadata": {},
   "outputs": [
    {
     "name": "stdout",
     "output_type": "stream",
     "text": [
      "[10 11 12 13 14 15 16 17 18 19 20 21 22 23 24 25 26 27 28 29 30 31 32 33\n",
      " 34 35 36 37 38 39 40 41 42 43 44 45 46 47 48 49]\n"
     ]
    }
   ],
   "source": [
    "vector = np.arange(10,50)\n",
    "print(vector)"
   ]
  },
  {
   "cell_type": "markdown",
   "metadata": {},
   "source": [
    "7. Invertir un vector (el primer elemento pasa a ser el último) (★☆☆)"
   ]
  },
  {
   "cell_type": "code",
   "execution_count": 417,
   "metadata": {},
   "outputs": [
    {
     "name": "stdout",
     "output_type": "stream",
     "text": [
      "Vector inicial: [ 0  2  4  6  8 10 12 14 16 18]\n",
      "\n",
      "\n",
      "Vector inverso: [18 16 14 12 10  8  6  4  2  0]\n"
     ]
    }
   ],
   "source": [
    "vector = np.arange(0,20,2, dtype= np.int16)\n",
    "print(f'Vector inicial: {vector}')\n",
    "print('\\n')\n",
    "print(f'Vector inverso: {vector[::-1]}')"
   ]
  },
  {
   "cell_type": "markdown",
   "metadata": {},
   "source": [
    "8. Crea una matriz de 3x3 con valores que van del 0 al 8 (★☆☆)"
   ]
  },
  {
   "cell_type": "code",
   "execution_count": 418,
   "metadata": {},
   "outputs": [
    {
     "name": "stdout",
     "output_type": "stream",
     "text": [
      "[[0. 1. 2.]\n",
      " [3. 4. 5.]\n",
      " [6. 7. 8.]]\n"
     ]
    }
   ],
   "source": [
    "matriz_3_x_3 = np.linspace(0,8,9).reshape((3,3))\n",
    "print(matriz_3_x_3)"
   ]
  },
  {
   "cell_type": "markdown",
   "metadata": {},
   "source": [
    "9. Encuentre índices de elementos distintos de cero de [1, 2, 0, 0, 4, 0] (★☆☆)"
   ]
  },
  {
   "cell_type": "code",
   "execution_count": 419,
   "metadata": {},
   "outputs": [
    {
     "name": "stdout",
     "output_type": "stream",
     "text": [
      "(array([0, 1, 4], dtype=int64),)\n"
     ]
    }
   ],
   "source": [
    "# Forma de encontrar mediante nonzero\n",
    "vector = np.array([1, 2, 0, 0, 4, 0])\n",
    "vector_filtro = vector.nonzero()\n",
    "print(vector_filtro)"
   ]
  },
  {
   "cell_type": "markdown",
   "metadata": {},
   "source": [
    "10. Create a 3x3 identity matrix (★☆☆)"
   ]
  },
  {
   "cell_type": "code",
   "execution_count": 420,
   "metadata": {},
   "outputs": [
    {
     "name": "stdout",
     "output_type": "stream",
     "text": [
      "[[1 0 0 0]\n",
      " [0 1 0 0]\n",
      " [0 0 1 0]\n",
      " [0 0 0 1]]\n"
     ]
    }
   ],
   "source": [
    "# Se usara para creaer una matriz identity np.indentity(tanaño) dentro de la creación del array\n",
    "matriz_indetity = np.array(np.identity(4), dtype=np.int16)\n",
    "print(matriz_indetity)"
   ]
  },
  {
   "cell_type": "markdown",
   "metadata": {},
   "source": [
    "11. Crea una array de 3x3x3 con valores aleatorios (★☆☆)"
   ]
  },
  {
   "cell_type": "code",
   "execution_count": 421,
   "metadata": {},
   "outputs": [
    {
     "name": "stdout",
     "output_type": "stream",
     "text": [
      "[[[0.24020618 0.13070497 0.94317807]\n",
      "  [0.75286034 0.33340889 0.83635369]\n",
      "  [0.71683551 0.25191154 0.9320081 ]]\n",
      "\n",
      " [[0.02215261 0.94282556 0.74442188]\n",
      "  [0.24807644 0.69405259 0.56452978]\n",
      "  [0.0575746  0.52505116 0.5338052 ]]\n",
      "\n",
      " [[0.94705862 0.97449632 0.66775995]\n",
      "  [0.48701433 0.32967641 0.23892912]\n",
      "  [0.19884594 0.42057958 0.50894522]]]\n"
     ]
    }
   ],
   "source": [
    "# Usando random.random\n",
    "matriz_aleatorio = np.random.random((3,3,3)) #valor de 0 a 1\n",
    "print(matriz_aleatorio)"
   ]
  },
  {
   "cell_type": "code",
   "execution_count": 422,
   "metadata": {},
   "outputs": [
    {
     "name": "stdout",
     "output_type": "stream",
     "text": [
      "[[[ 91  34  84]\n",
      "  [  4  40  60]\n",
      "  [ 74 100  47]]\n",
      "\n",
      " [[100  25  48]\n",
      "  [ 62  62  79]\n",
      "  [ 41  21  91]]\n",
      "\n",
      " [[100  63  48]\n",
      "  [ 26  69  90]\n",
      "  [ 27  16  81]]]\n"
     ]
    }
   ],
   "source": [
    "# Usando Random.randint\n",
    "matriz_aleatorio = np.random.randint(0,101,size=(3,3,3))\n",
    "print(matriz_aleatorio)"
   ]
  },
  {
   "cell_type": "code",
   "execution_count": 423,
   "metadata": {},
   "outputs": [
    {
     "name": "stdout",
     "output_type": "stream",
     "text": [
      "[[[0.15570043 0.00617599 0.37498084]\n",
      "  [0.14159691 0.53708501 0.54368539]\n",
      "  [0.35334599 0.80739684 0.91031243]]\n",
      "\n",
      " [[0.2440864  0.61260067 0.34920316]\n",
      "  [0.97542718 0.26415943 0.79929448]\n",
      "  [0.01409721 0.04302952 0.47915915]]\n",
      "\n",
      " [[0.53022869 0.94820007 0.70304696]\n",
      "  [0.12787286 0.43344751 0.81533061]\n",
      "  [0.45833091 0.59397641 0.07141469]]]\n"
     ]
    }
   ],
   "source": [
    "# Usando random.rand\n",
    "matriz_aleatorio = np.random.rand(3,3,3)\n",
    "print(matriz_aleatorio)"
   ]
  },
  {
   "cell_type": "markdown",
   "metadata": {},
   "source": [
    "12. Crea una matriz de 10x10 con valores aleatorios y encuentra los valores mínimo y máximo (★☆☆)"
   ]
  },
  {
   "cell_type": "code",
   "execution_count": 424,
   "metadata": {},
   "outputs": [
    {
     "name": "stdout",
     "output_type": "stream",
     "text": [
      "La matriz original es:\n",
      "[[ 8 31  1 99 62 79  9 23  3 38]\n",
      " [38 88 67 90 29 79 15  3 42 27]\n",
      " [ 5 27 33 10  5 86 36 40 19 95]\n",
      " [13 71 36 86 69 67 43 26 41 73]\n",
      " [48 97 15  3 51 12 10 81 72 19]\n",
      " [98  4 73 11 66 88 57 36 74 12]\n",
      " [77 89 35 70 89 31 34 51 97  1]\n",
      " [90  8 98 92 88 15 80 70 71 80]\n",
      " [92 41  8 54 70 46 33 29 96 98]\n",
      " [84 14 49 86 95 67  5 82 64 48]]\n",
      "\n",
      "El valor maximo es: 99\n",
      "El valor mínimo es: 1\n"
     ]
    }
   ],
   "source": [
    "matriz_10_10 = np.random.randint(0,100, size=(10,10))\n",
    "print(f'La matriz original es:\\n{matriz_10_10}\\n')\n",
    "max_valor = matriz_10_10.max()\n",
    "print(f'El valor maximo es: {max_valor}')\n",
    "min_valor = matriz_10_10.min()\n",
    "print(f'El valor mínimo es: {min_valor}')"
   ]
  },
  {
   "cell_type": "markdown",
   "metadata": {},
   "source": [
    "13. Crea un vector aleatorio de tamaño 30 y encuentra el valor medio (★☆☆)"
   ]
  },
  {
   "cell_type": "code",
   "execution_count": 425,
   "metadata": {},
   "outputs": [
    {
     "name": "stdout",
     "output_type": "stream",
     "text": [
      "El vector original es:\n",
      " [192  90 149  39 199 163  30  60  29  37 126 175 173 110 133 103  42 145\n",
      " 149  95  38  57  80 123 155  33  18  14   9 172]\n",
      "\n",
      "El Promedio del vector es: 97.93333333333334\n"
     ]
    }
   ],
   "source": [
    "vector_30 = np.random.randint(0,200, size=30)\n",
    "print(f'El vector original es:\\n {vector_30}\\n')\n",
    "mean_vector_30 = vector_30.mean()\n",
    "print(f'El Promedio del vector es: {mean_vector_30}')"
   ]
  },
  {
   "cell_type": "markdown",
   "metadata": {},
   "source": [
    "14. Crea una matriz 2d con 1 en el borde y 0 dentro (★☆☆)"
   ]
  },
  {
   "cell_type": "code",
   "execution_count": 426,
   "metadata": {},
   "outputs": [
    {
     "data": {
      "text/plain": [
       "array([[1, 1, 1],\n",
       "       [1, 0, 1],\n",
       "       [1, 1, 1]])"
      ]
     },
     "execution_count": 426,
     "metadata": {},
     "output_type": "execute_result"
    }
   ],
   "source": [
    "matriz_2d = np.ones((3,3), dtype=np.int32)\n",
    "matriz_2d[1:-1,1:-1] = 0\n",
    "matriz_2d"
   ]
  },
  {
   "cell_type": "markdown",
   "metadata": {},
   "source": [
    "15. ¿Cómo agregar dos bordes (relleno con ceros) alrededor de una matriz existente? (★☆☆)"
   ]
  },
  {
   "cell_type": "code",
   "execution_count": 443,
   "metadata": {},
   "outputs": [
    {
     "name": "stdout",
     "output_type": "stream",
     "text": [
      "[[ 1  1  1  1  1  1  1  1  1  1  1  1]\n",
      " [ 1  1  1  1  1  1  1  1  1  1  1  1]\n",
      " [ 1  1 89 96 77 78 99 38 96 32  1  1]\n",
      " [ 1  1 15 30 11 64 79 98 27 35  1  1]\n",
      " [ 1  1 63 21 98  8 94 58 94 38  1  1]\n",
      " [ 1  1 43 70 11 76 12 63 23 49  1  1]\n",
      " [ 1  1 79  0 19  2 64 11 65 96  1  1]\n",
      " [ 1  1 91 40 38 67 32 96 35  3  1  1]\n",
      " [ 1  1 62 85 26 90 94 44 14 50  1  1]\n",
      " [ 1  1 48 61  1 45 72 98 87 54  1  1]\n",
      " [ 1  1  1  1  1  1  1  1  1  1  1  1]\n",
      " [ 1  1  1  1  1  1  1  1  1  1  1  1]]\n"
     ]
    }
   ],
   "source": [
    "matriz_2d_ceros = np.random.randint(100, size=(8,8))\n",
    "matriz_2d_ceros = np.pad(matriz_2d_ceros, pad_width=2, mode='constant', constant_values=1)\n",
    "print(matriz_2d_ceros)"
   ]
  },
  {
   "cell_type": "markdown",
   "metadata": {},
   "source": [
    "16. ¿Cuál es el resultado de la siguiente expresión? (★☆☆)"
   ]
  },
  {
   "cell_type": "code",
   "execution_count": 465,
   "metadata": {},
   "outputs": [
    {
     "data": {
      "text/plain": [
       "False"
      ]
     },
     "execution_count": 465,
     "metadata": {},
     "output_type": "execute_result"
    }
   ],
   "source": [
    "0 * np.nan  # NAN\n",
    "np.nan == np.nan # False\n",
    "np.inf > np.nan  # False\n",
    "np.nan - np.nan  # False\n",
    "np.nan in set([np.nan]) #\n",
    "0.3 == 3 * 0.1 # False"
   ]
  },
  {
   "cell_type": "markdown",
   "metadata": {},
   "source": [
    "17. Crea una matriz de 5x5 con valores 1,2,3,4 justo debajo de la diagonal (★☆☆)"
   ]
  },
  {
   "cell_type": "code",
   "execution_count": 599,
   "metadata": {},
   "outputs": [
    {
     "data": {
      "text/plain": [
       "array([[0, 0, 0, 0, 0],\n",
       "       [1, 0, 0, 0, 0],\n",
       "       [0, 2, 0, 0, 0],\n",
       "       [0, 0, 3, 0, 0],\n",
       "       [0, 0, 0, 4, 0]])"
      ]
     },
     "execution_count": 599,
     "metadata": {},
     "output_type": "execute_result"
    }
   ],
   "source": [
    "matriz_5_5 = np.diag(1+np.arange(4),k=-1)\n",
    "matriz_5_5"
   ]
  },
  {
   "cell_type": "markdown",
   "metadata": {},
   "source": [
    "18. Crea una matriz de 8x8 y rellénala con un patrón de tablero de ajedrez (★☆☆)\n"
   ]
  },
  {
   "cell_type": "code",
   "execution_count": 608,
   "metadata": {},
   "outputs": [
    {
     "name": "stdout",
     "output_type": "stream",
     "text": [
      "[[0 1 0 1 0 1 0 1 0 1]\n",
      " [1 0 1 0 1 0 1 0 1 0]\n",
      " [0 1 0 1 0 1 0 1 0 1]\n",
      " [1 0 1 0 1 0 1 0 1 0]\n",
      " [0 1 0 1 0 1 0 1 0 1]\n",
      " [1 0 1 0 1 0 1 0 1 0]\n",
      " [0 1 0 1 0 1 0 1 0 1]\n",
      " [1 0 1 0 1 0 1 0 1 0]\n",
      " [0 1 0 1 0 1 0 1 0 1]\n",
      " [1 0 1 0 1 0 1 0 1 0]]\n"
     ]
    }
   ],
   "source": [
    "matriz_8_8 = np.zeros((8,8),dtype=int)\n",
    "matriz_8_8[1::2,::2] = 1\n",
    "matriz_8_8[::2,1::2] = 1\n",
    "print(matriz_8_8)"
   ]
  },
  {
   "cell_type": "markdown",
   "metadata": {},
   "source": [
    "19. Considere una matriz de formas (6,7,8), ¿cuál es el índice (x,y,z) del elemento número 100? (★☆☆)"
   ]
  },
  {
   "cell_type": "code",
   "execution_count": 731,
   "metadata": {},
   "outputs": [
    {
     "name": "stdout",
     "output_type": "stream",
     "text": [
      "Matriz original :\n",
      " [[[ 96  19   9  69  58  49  39  96]\n",
      "  [ 19  62  52  85  38  58   3  20]\n",
      "  [  5  74  99  78  51  45  74  14]\n",
      "  [ 93  14  74  98  57  13  78  15]\n",
      "  [ 21   8  53  50  68  47  52  53]\n",
      "  [ 81  19  92  94  69  58  63  81]\n",
      "  [ 33  44  46   7  83  62  58  47]]\n",
      "\n",
      " [[ 36  71  64  63  59  75  26   4]\n",
      "  [ 53  15  36  73  71  85  12 100]\n",
      "  [ 37  39  49   6  90  10  91  40]\n",
      "  [ 37  24  38  34   1  36  10  68]\n",
      "  [ 77  50  44  28   0  99  75  65]\n",
      "  [ 55  74   0  76  90   0  84  93]\n",
      "  [ 14  11  73  64  82  30  72  22]]\n",
      "\n",
      " [[ 18  99  94 100  97  39  15  47]\n",
      "  [ 63  82  49   5  13  59  68  27]\n",
      "  [  5  28  76  14  21  35  14  54]\n",
      "  [ 86  50 100  44  88  19   5   6]\n",
      "  [ 71  44  39  45  98  36   8  15]\n",
      "  [ 44  57  90  20  71  34  37  30]\n",
      "  [ 71  86  23  47  28  64  25  92]]\n",
      "\n",
      " [[ 87  68  91  43  65  38   1  60]\n",
      "  [ 84  24   8  97  96  29  73  37]\n",
      "  [ 92  57  53  19  40   8  47   6]\n",
      "  [ 10  79  73  50   5  17  50  93]\n",
      "  [ 53  65  78  36  69  50  50  49]\n",
      "  [ 10  37  61  15  11  63  62  43]\n",
      "  [ 96   9  59  77  77  92  95  32]]\n",
      "\n",
      " [[ 51  29  70  19  89  42   5  19]\n",
      "  [ 48  93  50  64  19  67   8  26]\n",
      "  [ 98  86  86  48  60   1  11  32]\n",
      "  [ 95  38  97  57  44  84  87   8]\n",
      "  [ 86  33  20  67  17  92  50  70]\n",
      "  [ 81  41   1  48  24  38  32  57]\n",
      "  [ 63  88  50  32  50  10   0  21]]\n",
      "\n",
      " [[ 12  31  63  18  56  81  43  37]\n",
      "  [  5  85  12  75   8  83  74   3]\n",
      "  [ 48  82  86   7  72  69  33  35]\n",
      "  [ 91  12  24  70  65  34  13  54]\n",
      "  [ 36  87  66  12  27  25  35  22]\n",
      "  [ 43  11  64  86  46   6  74  89]\n",
      "  [ 83  33  29   4  34  85   1   1]]]\n",
      "\n",
      "Los índices de son: [[1 1 7]\n",
      " [2 0 3]\n",
      " [2 3 2]]\n"
     ]
    }
   ],
   "source": [
    "matriz_100 = np.random.randint(101,size =(6,7,8))\n",
    "print(f'Matriz original :\\n {matriz_100}\\n')\n",
    "#matriz_100[5,4,3] == 100\n",
    "indice = np.argwhere(matriz_100 == 100)\n",
    "print(f\"Los índices de son: {indice}\")\n"
   ]
  }
 ],
 "metadata": {
  "kernelspec": {
   "display_name": "Python 3",
   "language": "python",
   "name": "python3"
  },
  "language_info": {
   "codemirror_mode": {
    "name": "ipython",
    "version": 3
   },
   "file_extension": ".py",
   "mimetype": "text/x-python",
   "name": "python",
   "nbconvert_exporter": "python",
   "pygments_lexer": "ipython3",
   "version": "3.11.9"
  }
 },
 "nbformat": 4,
 "nbformat_minor": 2
}
